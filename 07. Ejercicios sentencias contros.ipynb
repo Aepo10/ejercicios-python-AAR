{
 "cells": [
  {
   "cell_type": "markdown",
   "metadata": {},
   "source": [
    "<div style=\"text-align: center;\">\n",
    "  <img src=\"https://github.com/Hack-io-Data/Imagenes/blob/main/01-LogosHackio/logo_celeste@4x.png?raw=true\" alt=\"logo hack(io)\" />\n",
    "</div>"
   ]
  },
  {
   "cell_type": "markdown",
   "metadata": {},
   "source": [
    "#### 1. Escribe un programa que determine si un número es par o impar.\n",
    "\n"
   ]
  },
  {
   "cell_type": "code",
   "execution_count": 8,
   "metadata": {},
   "outputs": [
    {
     "name": "stdout",
     "output_type": "stream",
     "text": [
      "No\n"
     ]
    }
   ],
   "source": [
    "numero = int(input(\"Dame un número\"))\n",
    "if numero % 2 == 0:\n",
    "    print(\"SI\")\n",
    "else:\n",
    "    print(\"No\")\n",
    "\n"
   ]
  },
  {
   "cell_type": "markdown",
   "metadata": {},
   "source": [
    "#### 2. Genera un programa que nos diga si es de noche, de día o tarde según la hora proporcionada por el usuario."
   ]
  },
  {
   "cell_type": "code",
   "execution_count": 29,
   "metadata": {},
   "outputs": [
    {
     "name": "stdout",
     "output_type": "stream",
     "text": [
      "noche\n"
     ]
    }
   ],
   "source": [
    "#Para simplificar convierto los datos en un número entero\n",
    "dato_h = (input(\"¿Qué hora es?\"))\n",
    "dato_hora = int(dato_h)\n",
    "if 7< dato_hora <14:\n",
    "    print(\"Es de día\")\n",
    "elif 14<dato_hora<21:\n",
    "    print(\"es por la tarde\")\n",
    "elif dato_hora>23:\n",
    "    print(\"Hora incorrecta\")\n",
    "else:\n",
    "    print(\"noche\")\n",
    "\n"
   ]
  },
  {
   "cell_type": "markdown",
   "metadata": {},
   "source": [
    "#### 3. Dado un nombre imprime un saludo personalizado."
   ]
  },
  {
   "cell_type": "code",
   "execution_count": 31,
   "metadata": {},
   "outputs": [
    {
     "name": "stdout",
     "output_type": "stream",
     "text": [
      "Hola  Pedro ¿Cómo estás?\n"
     ]
    }
   ],
   "source": [
    "nombre = input(\"¿Cómo te llamas?\")\n",
    "print(\"Hola \",nombre, \"¿Cómo estás?\")"
   ]
  },
  {
   "cell_type": "markdown",
   "metadata": {},
   "source": [
    "#### 4. Escribe un programa que determine qué calificación en texto tiene un alumno en base a su calificación numérica. Las reglas de calificación son: \n",
    "\n",
    "- 0 - 69 insuficiente\n",
    "\n",
    "- 70 - 79 bien\n",
    "\n",
    "- 80 - 89 muy bien\n",
    "\n",
    "- 90 - 100 excelente\n"
   ]
  },
  {
   "cell_type": "code",
   "execution_count": 39,
   "metadata": {},
   "outputs": [
    {
     "name": "stdout",
     "output_type": "stream",
     "text": [
      "excelente\n"
     ]
    }
   ],
   "source": [
    "Calificación =99\n",
    "if  0< Calificación <69:\n",
    "    print(\"Insuficiente\")\n",
    "elif 70< Calificación <79:\n",
    "    print(\"Bien\")\n",
    "elif 80< Calificación <89:\n",
    "    print(\"Muy bien\")\n",
    "elif 90< Calificación <101:\n",
    "    print(\"excelente\")\n",
    "else:\n",
    "    print(\"Inserta una calificación entre 0 y 100\")"
   ]
  },
  {
   "cell_type": "markdown",
   "metadata": {},
   "source": [
    "#### 5. Escribe un programa que imprima el día de la semana, dado un número del 1 al 7.\n"
   ]
  },
  {
   "cell_type": "code",
   "execution_count": 11,
   "metadata": {},
   "outputs": [
    {
     "name": "stdout",
     "output_type": "stream",
     "text": [
      "viernes\n"
     ]
    }
   ],
   "source": [
    "Num =int(input(\"dime un número del 1 al 7\"))\n",
    "if Num == 1:\n",
    "    print(\"LUNES\")\n",
    "elif Num==2:\n",
    "    print(\"Martes\")\n",
    "elif Num==3:\n",
    "    print(\"Miércoles\")\n",
    "elif Num==4:\n",
    "    print(\"jueves\")\n",
    "elif Num==5: \n",
    "    print(\"viernes\")\n",
    "elif Num==6:\n",
    "    print(\"Sábado\")\n",
    "elif Num==7:\n",
    "    print(\"domingo\")\n",
    "else :\n",
    "    print(\"Número no válido\")"
   ]
  },
  {
   "cell_type": "markdown",
   "metadata": {},
   "source": [
    "#### 6. Escribe un programa que determine si un número es positivo, negativo o cero."
   ]
  },
  {
   "cell_type": "code",
   "execution_count": 22,
   "metadata": {},
   "outputs": [
    {
     "name": "stdout",
     "output_type": "stream",
     "text": [
      "El número es negativo\n"
     ]
    }
   ],
   "source": [
    "Num =float(input(\"dime un número cualquiera\"))\n",
    "if Num == 0:\n",
    "    print(\"El número es cero\")\n",
    "elif 0 < Num:\n",
    "    print(\"El número es positivo\")\n",
    "elif Num < 0:\n",
    "    print(\"El número es negativo\")"
   ]
  },
  {
   "cell_type": "markdown",
   "metadata": {},
   "source": [
    "#### 7. Escribe un programa que determine si una persona puede conducir o no. La edad mínima para conducir es 18 años. \n"
   ]
  },
  {
   "cell_type": "code",
   "execution_count": 27,
   "metadata": {},
   "outputs": [
    {
     "name": "stdout",
     "output_type": "stream",
     "text": [
      "Inserte una edad válida\n"
     ]
    }
   ],
   "source": [
    "Num =int(input(\"¿Cúal es la edad de la persona?\"))\n",
    "if 18> Num:\n",
    "    print(\"NO PUEDE CONDUCIR\")\n",
    "elif 18< Num <110:\n",
    "    print(\"Puede conducier\")\n",
    "else :\n",
    "    print(\"Inserte una edad válida\")"
   ]
  },
  {
   "cell_type": "markdown",
   "metadata": {},
   "source": [
    "#### 8. Escribe un programa que determine si un estudiante aprobó o suspendió un examen."
   ]
  },
  {
   "cell_type": "code",
   "execution_count": 31,
   "metadata": {},
   "outputs": [
    {
     "name": "stdout",
     "output_type": "stream",
     "text": [
      "inserta una nota del 1 al 10\n"
     ]
    }
   ],
   "source": [
    "Num =float(input(\"¿Cuál fue tu nota?\"))\n",
    "if 0<Num<5:\n",
    "    print(\"Suspendiste, estudia más\")\n",
    "elif 5<= Num <10:\n",
    "    print(\"Enhorabuena aprobaste\")\n",
    "else:\n",
    "    print(\"inserta una nota del 1 al 10\")"
   ]
  },
  {
   "cell_type": "markdown",
   "metadata": {},
   "source": [
    "#### 9. Escribe un programa que determine si un número es múltiplo de 3 y 5.\n"
   ]
  },
  {
   "cell_type": "code",
   "execution_count": 34,
   "metadata": {},
   "outputs": [
    {
     "name": "stdout",
     "output_type": "stream",
     "text": [
      "No es múltiplo de 3 y 5\n"
     ]
    }
   ],
   "source": [
    "Num = int(input(\"Dime un número entero y te digo si es múltiplo de 3 y 5\"))\n",
    "if Num % 5 ==0 and Num % 3==0:\n",
    "    print(\"es multiplo de 3 y 5\")\n",
    "else:\n",
    "    print(\"No es múltiplo de 3 y 5\")"
   ]
  },
  {
   "cell_type": "markdown",
   "metadata": {},
   "source": [
    "#### 10. Escribe un programa que determine si un número es par o impar.\n"
   ]
  },
  {
   "cell_type": "code",
   "execution_count": 37,
   "metadata": {},
   "outputs": [
    {
     "name": "stdout",
     "output_type": "stream",
     "text": [
      "es par\n"
     ]
    }
   ],
   "source": [
    "Num = int(input(\"Dime un número entero y te digo si es par o impar\"))\n",
    "if Num % 2 == 0:\n",
    "    print(\"es par\")\n",
    "else:\n",
    "    print(\"No es par\")"
   ]
  }
 ],
 "metadata": {
  "kernelspec": {
   "display_name": "hackio",
   "language": "python",
   "name": "python3"
  },
  "language_info": {
   "codemirror_mode": {
    "name": "ipython",
    "version": 3
   },
   "file_extension": ".py",
   "mimetype": "text/x-python",
   "name": "python",
   "nbconvert_exporter": "python",
   "pygments_lexer": "ipython3",
   "version": "3.12.5"
  }
 },
 "nbformat": 4,
 "nbformat_minor": 2
}
