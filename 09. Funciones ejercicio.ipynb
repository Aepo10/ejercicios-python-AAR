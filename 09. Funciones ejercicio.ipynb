{
 "cells": [
  {
   "cell_type": "markdown",
   "metadata": {},
   "source": [
    "\n",
    "<div style=\"text-align: center;\">\n",
    "  <img src=\"https://github.com/Hack-io-Data/Imagenes/blob/main/01-LogosHackio/logo_celeste@4x.png?raw=true\" alt=\"esquema\" />\n",
    "</div>"
   ]
  },
  {
   "cell_type": "markdown",
   "metadata": {},
   "source": [
    "#### 1. Escribe una función sin parámetros que imprima el siguiente mensaje \"¡Hola! Bienvenido.\"\n"
   ]
  },
  {
   "cell_type": "code",
   "execution_count": 1,
   "metadata": {},
   "outputs": [
    {
     "name": "stdout",
     "output_type": "stream",
     "text": [
      "Hola, bienvenido\n"
     ]
    }
   ],
   "source": [
    "def saludo():\n",
    "    print(\"Hola, bienvenido\")\n",
    "\n",
    "\n",
    "saludo()"
   ]
  },
  {
   "cell_type": "markdown",
   "metadata": {},
   "source": [
    "#### 2. Escribe una función que reciba dos parámetros y devuelva la suma de ambos.\n"
   ]
  },
  {
   "cell_type": "code",
   "execution_count": 9,
   "metadata": {},
   "outputs": [
    {
     "name": "stdout",
     "output_type": "stream",
     "text": [
      "la suma es:  12\n"
     ]
    }
   ],
   "source": [
    "def suma_AAR():\n",
    "    par1=int(input(\"Dame un valor\"))\n",
    "    par2=int(input(\"Dame otro valor\"))\n",
    "    result= int(par1+par2)\n",
    "    print(\"la suma es: \", result)\n",
    "\n",
    "suma_AAR()"
   ]
  },
  {
   "cell_type": "markdown",
   "metadata": {},
   "source": [
    "#### 3. Escribe una función que reciba un número y devuelva True si es par, False si no lo es."
   ]
  },
  {
   "cell_type": "code",
   "execution_count": 12,
   "metadata": {},
   "outputs": [
    {
     "name": "stdout",
     "output_type": "stream",
     "text": [
      "True\n"
     ]
    }
   ],
   "source": [
    "def es_par(num):\n",
    "    return num % 2 ==0\n",
    "\n",
    "resultado = es_par(4)\n",
    "print(resultado)"
   ]
  },
  {
   "cell_type": "markdown",
   "metadata": {},
   "source": [
    "#### 4. Escribe un función que devuelva un saludo personalizado a una persona dado su nombre. \n"
   ]
  },
  {
   "cell_type": "code",
   "execution_count": 14,
   "metadata": {},
   "outputs": [
    {
     "name": "stdout",
     "output_type": "stream",
     "text": [
      "Hola Pedro\n"
     ]
    }
   ],
   "source": [
    "def saludo_pers(nombre, saludo = \"Hola\"):\n",
    "    frase= saludo + \" \" + nombre\n",
    "    return frase\n",
    "\n",
    "print(saludo_pers(\"Pedro\"))"
   ]
  },
  {
   "cell_type": "markdown",
   "metadata": {},
   "source": [
    "#### 5. Escribe una función que sume todos los números que reciba como argumento. La función debe recibir una cantidad variable de argumentos y devolver la suma de todos ellos."
   ]
  },
  {
   "cell_type": "code",
   "execution_count": 24,
   "metadata": {},
   "outputs": [
    {
     "name": "stdout",
     "output_type": "stream",
     "text": [
      "11\n"
     ]
    }
   ],
   "source": [
    "def suma_arg(*args):\n",
    "    return sum(args)\n",
    "    \n",
    "\n",
    "\n",
    "result = suma_arg(5,6)\n",
    "print(result)\n"
   ]
  },
  {
   "cell_type": "markdown",
   "metadata": {},
   "source": [
    "#### 6. Escribe una función que cuente las letras de una palabra y devuelva un diccionario con la cantidad de veces que se repite cada letra \n"
   ]
  },
  {
   "cell_type": "code",
   "execution_count": 26,
   "metadata": {},
   "outputs": [
    {
     "name": "stdout",
     "output_type": "stream",
     "text": [
      "{'m': 1, 'a': 3, 'n': 2, 'z': 1}\n"
     ]
    }
   ],
   "source": [
    "def contador_letras(palabra, valor=0):\n",
    "    diccionario = {}\n",
    "    for n in palabra:\n",
    "        if n in diccionario:\n",
    "            diccionario[n] +=1\n",
    "        else:\n",
    "            diccionario[n] = 1\n",
    "\n",
    "    return diccionario\n",
    "\n",
    "result = contador_letras(\"manzana\")\n",
    "print(result)\n",
    "\n"
   ]
  },
  {
   "cell_type": "markdown",
   "metadata": {},
   "source": [
    "#### 7. Escribe un función recursiva para calcular el factorial de un número entero no negativo."
   ]
  },
  {
   "cell_type": "code",
   "execution_count": 37,
   "metadata": {},
   "outputs": [
    {
     "name": "stdout",
     "output_type": "stream",
     "text": [
      "6\n"
     ]
    }
   ],
   "source": [
    "def factorial(n):\n",
    "    n=int(n)\n",
    "    resultado = 1\n",
    "    for i in range(1,n+1,1):\n",
    "        resultado = int(resultado) * int(i)\n",
    "    return resultado\n",
    "\n",
    "prueba = factorial(3)\n",
    "print(prueba)\n",
    "\n",
    "\n",
    "    "
   ]
  },
  {
   "cell_type": "markdown",
   "metadata": {},
   "source": [
    "#### 8. Escribe una función que tome dos parámetros: `figura` (una cadena que puede ser `\"rectangulo\"`, `\"circulo\"` o `\"triangulo\"`) y `datos` (una tupla con los datos necesarios para calcular el área de la figura). "
   ]
  },
  {
   "cell_type": "code",
   "execution_count": 41,
   "metadata": {},
   "outputs": [
    {
     "name": "stdout",
     "output_type": "stream",
     "text": [
      "Área del rectángulo: 50\n",
      "Área del círculo: 153.9384\n",
      "Área del triángulo: 24.0\n"
     ]
    }
   ],
   "source": [
    "def calcular_area(figura, datos):\n",
    "    if figura == \"rectangulo\":\n",
    "        base, altura = datos  \n",
    "        return base * altura  \n",
    "    elif figura == \"circulo\":\n",
    "        radio, = datos\n",
    "        return 3.1416 * radio**2  \n",
    "    elif figura == \"triangulo\":\n",
    "        base, altura = datos  \n",
    "        return (base * altura) / 2  \n",
    "    else:\n",
    "        return \"Figura no reconocida\"  \n",
    "\n",
    "area_rectangulo = calcular_area(\"rectangulo\", (10, 5))\n",
    "area_circulo = calcular_area(\"circulo\", (7,))\n",
    "area_triangulo = calcular_area(\"triangulo\", (8, 6))\n",
    "\n",
    "print(f\"Área del rectángulo: {area_rectangulo}\")\n",
    "print(f\"Área del círculo: {area_circulo}\")\n",
    "print(f\"Área del triángulo: {area_triangulo}\")"
   ]
  },
  {
   "cell_type": "markdown",
   "metadata": {},
   "source": [
    "#### 9. Escribe una función que tome una lista de números como parámetro y devuelva el número más grande de la lista. No utilices la función `max()` de Python en tu solución."
   ]
  },
  {
   "cell_type": "code",
   "execution_count": 42,
   "metadata": {},
   "outputs": [
    {
     "name": "stdout",
     "output_type": "stream",
     "text": [
      "El número más grande es: 99\n"
     ]
    }
   ],
   "source": [
    "\n",
    "def numero_mas_grande(lista):\n",
    "    if len(lista) == 0:\n",
    "        return None \n",
    "\n",
    "    mayor = lista[0] \n",
    "    \n",
    "    for numero in lista:\n",
    "        if numero > mayor:\n",
    "            mayor = numero  \n",
    "    \n",
    "    return mayor \n",
    "\n",
    "# Ejemplo de uso\n",
    "numeros = [10, 50, 35, 99, 23, 88]\n",
    "resultado = numero_mas_grande(numeros)\n",
    "print(f\"El número más grande es: {resultado}\")"
   ]
  },
  {
   "cell_type": "markdown",
   "metadata": {},
   "source": [
    "#### 10. Escribe una función que tome una cadena como parámetro un texto y devuelva `True` si la cadena es un palíndromo (se lee igual de izquierda a derecha que de derecha a izquierda), y `False` en caso contrario. Ignora los espacios y considera mayúsculas y minúsculas de manera insensible.\n"
   ]
  },
  {
   "cell_type": "code",
   "execution_count": 43,
   "metadata": {},
   "outputs": [
    {
     "name": "stdout",
     "output_type": "stream",
     "text": [
      "True\n",
      "False\n"
     ]
    }
   ],
   "source": [
    "def es_palindromo(texto):\n",
    "    \n",
    "    texto = texto.replace(\" \", \"\").lower()\n",
    "    return texto == texto[::-1]\n",
    "\n",
    "cadena1 = \"Anita lava la tina\"\n",
    "cadena2 = \"Hola Mundo\"\n",
    "\n",
    "print(es_palindromo(cadena1)) \n",
    "print(es_palindromo(cadena2)) "
   ]
  },
  {
   "cell_type": "markdown",
   "metadata": {},
   "source": [
    "#### 11. Escribe una función que tome una cadena como parámetro y devuelva dos valores: la cantidad de vocales y la cantidad de consonantes presentes en la cadena. Ignora los espacios y considera mayúsculas y minúsculas de manera insensible.\n"
   ]
  },
  {
   "cell_type": "code",
   "execution_count": 48,
   "metadata": {},
   "outputs": [
    {
     "name": "stdout",
     "output_type": "stream",
     "text": [
      "{'vocales': 5, 'consonantes': 10}\n",
      "{'vocales': 5, 'consonantes': 2}\n"
     ]
    }
   ],
   "source": [
    "def tipo_letras(texto):\n",
    "    total_vocales=0\n",
    "    total_conso=0\n",
    "    vocales = [\"a\",\"e\",\"i\",\"o\",\"u\"]\n",
    "    texto.replace(\" \",\"\")\n",
    "    texto = texto.lower()\n",
    "    for n in texto:\n",
    "        if n in vocales:\n",
    "            total_vocales +=1\n",
    "        else:\n",
    "            total_conso +=1\n",
    "    return {\"vocales\": total_vocales, \"consonantes\": total_conso}\n",
    "\n",
    "prueba = \"Hola como estás\"\n",
    "prueba2=\"aeioujj\"\n",
    "\n",
    "print(tipo_letras(prueba))\n",
    "print(tipo_letras(prueba2))\n",
    "\n"
   ]
  }
 ],
 "metadata": {
  "kernelspec": {
   "display_name": "hackio",
   "language": "python",
   "name": "python3"
  },
  "language_info": {
   "codemirror_mode": {
    "name": "ipython",
    "version": 3
   },
   "file_extension": ".py",
   "mimetype": "text/x-python",
   "name": "python",
   "nbconvert_exporter": "python",
   "pygments_lexer": "ipython3",
   "version": "3.12.5"
  }
 },
 "nbformat": 4,
 "nbformat_minor": 2
}
