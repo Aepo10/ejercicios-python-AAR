{
 "cells": [
  {
   "cell_type": "markdown",
   "metadata": {},
   "source": [
    "<div style=\"text-align: center;\">\n",
    "  <img src=\"https://github.com/Hack-io-Data/Imagenes/blob/main/01-LogosHackio/logo_celeste@4x.png?raw=true\" alt=\"logo hack(io)\" />\n",
    "</div>"
   ]
  },
  {
   "cell_type": "markdown",
   "metadata": {},
   "source": [
    "####  1. Genera una lista de números del 0 al 4 y luego imprime cada número en la lista usando un `bucle for`. "
   ]
  },
  {
   "cell_type": "code",
   "execution_count": 1,
   "metadata": {},
   "outputs": [
    {
     "name": "stdout",
     "output_type": "stream",
     "text": [
      "el número es:  0\n",
      "------\n",
      "el número es:  1\n",
      "------\n",
      "el número es:  2\n",
      "------\n",
      "el número es:  3\n",
      "------\n",
      "el número es:  4\n",
      "------\n"
     ]
    }
   ],
   "source": [
    "lista= [0,1,2,3,4]\n",
    "for numero in lista :\n",
    "    print(f\"el número es: \",numero)\n",
    "    print(\"------\")"
   ]
  },
  {
   "cell_type": "markdown",
   "metadata": {},
   "source": [
    "#### 2. Itera sobre una lista de frutas y muestra cada fruta en mayúsculas. \n"
   ]
  },
  {
   "cell_type": "code",
   "execution_count": 4,
   "metadata": {},
   "outputs": [
    {
     "name": "stdout",
     "output_type": "stream",
     "text": [
      "la fruta es:  NARANJA\n",
      "---------\n",
      "la fruta es:  MANZANA\n",
      "---------\n",
      "la fruta es:  FRESA\n",
      "---------\n",
      "la fruta es:  PERA\n",
      "---------\n",
      "la fruta es:  ALBARICOQUE\n",
      "---------\n"
     ]
    }
   ],
   "source": [
    "lista = [\"naranja\", \"manzana\", \"fresa\", \"pera\", \"albaricoque\"]\n",
    "for fruta in lista:\n",
    "    print(\"la fruta es: \",fruta.upper())\n",
    "    print(\"---------\")"
   ]
  },
  {
   "cell_type": "markdown",
   "metadata": {},
   "source": [
    "####  3. Genera un bucle while que imprima los números del 0 al 4. \n"
   ]
  },
  {
   "cell_type": "code",
   "execution_count": 13,
   "metadata": {},
   "outputs": [
    {
     "name": "stdout",
     "output_type": "stream",
     "text": [
      "0\n",
      "1\n",
      "2\n",
      "3\n",
      "4\n"
     ]
    }
   ],
   "source": [
    "\n",
    "numero = 0\n",
    "\n",
    "\n",
    "while numero <= 4:\n",
    "\n",
    "    print(numero)\n",
    "    \n",
    "    numero += 1"
   ]
  },
  {
   "cell_type": "markdown",
   "metadata": {},
   "source": [
    "#### 4. Genera un bucle del 0 al 9, pero que se detenga en el 5.\n"
   ]
  },
  {
   "cell_type": "code",
   "execution_count": 15,
   "metadata": {},
   "outputs": [
    {
     "name": "stdout",
     "output_type": "stream",
     "text": [
      "0\n",
      "1\n",
      "2\n",
      "3\n",
      "4\n",
      "5\n"
     ]
    }
   ],
   "source": [
    "numero = 0\n",
    "\n",
    "\n",
    "while numero <= 9:\n",
    "\n",
    "    print(numero)\n",
    "    \n",
    "    if numero ==5:\n",
    "        break\n",
    "    else: numero += 1\n",
    "    "
   ]
  },
  {
   "cell_type": "markdown",
   "metadata": {},
   "source": [
    "#### 5. Recorre los números del 0 al 9 e imprime solo los números impares."
   ]
  },
  {
   "cell_type": "code",
   "execution_count": 24,
   "metadata": {},
   "outputs": [
    {
     "name": "stdout",
     "output_type": "stream",
     "text": [
      "1\n",
      "3\n",
      "5\n",
      "7\n",
      "9\n"
     ]
    }
   ],
   "source": [
    "lista = [0,1,2,3,4,5,6,7,8,9]\n",
    "\n",
    "for n in lista:\n",
    "    if n % 2 !=0:\n",
    "        print(n)\n",
    "\n"
   ]
  },
  {
   "cell_type": "markdown",
   "metadata": {},
   "source": [
    "#### 6. Dada la lista `[10, 20, 30, 40, 50]`, calcula la suma de todos los elementos usando un bucle `for`."
   ]
  },
  {
   "cell_type": "code",
   "execution_count": 30,
   "metadata": {},
   "outputs": [
    {
     "name": "stdout",
     "output_type": "stream",
     "text": [
      "La suma de todos los elementos es: 150\n"
     ]
    }
   ],
   "source": [
    "numeros = [10, 20, 30, 40, 50]\n",
    "suma_total = 0\n",
    "for numero in numeros:\n",
    "    suma_total += numero\n",
    "\n",
    "print(\"La suma de todos los elementos es:\", suma_total)"
   ]
  },
  {
   "cell_type": "markdown",
   "metadata": {},
   "source": [
    "#### 7. Dada la cadena `\"Hola mundo\"`, cuenta cuántas veces aparecen las vocales (`a`, `e`, `i`, `o`, `u`) usando un bucle `for`.\n"
   ]
  },
  {
   "cell_type": "code",
   "execution_count": 51,
   "metadata": {},
   "outputs": [
    {
     "name": "stdout",
     "output_type": "stream",
     "text": [
      "el número de a es 1\n",
      "el número de e es 0\n",
      "el número de i es 0\n",
      "el número de o es 2\n",
      "el número de u es 1\n"
     ]
    }
   ],
   "source": [
    "texto = \"Hola Mundo\"\n",
    "num_a= 0\n",
    "num_e= 0\n",
    "num_i= 0\n",
    "num_o= 0\n",
    "num_u= 0\n",
    "\n",
    "for letra in texto:\n",
    "        if letra ==\"a\":\n",
    "            num_a +=1\n",
    "        elif letra ==\"e\":\n",
    "            num_e +=1\n",
    "        elif letra ==\"i\":\n",
    "            num_i +=1\n",
    "        elif letra ==\"o\":\n",
    "            num_o +=1\n",
    "        elif letra ==\"u\":\n",
    "            num_u +=1\n",
    "print(f\"el número de a es\", num_a)\n",
    "print(f\"el número de e es\", num_e)\n",
    "print(f\"el número de i es\", num_i)\n",
    "print(f\"el número de o es\", num_o)\n",
    "print(f\"el número de u es\", num_u)\n",
    "\n",
    "     "
   ]
  },
  {
   "cell_type": "markdown",
   "metadata": {},
   "source": [
    "#### 8. Dada la cadena `\"Python\"`, usa un bucle `for` para imprimir los caracteres en orden inverso (`n`, `o`, `h`, `t`, `y`, `P`).\n"
   ]
  },
  {
   "cell_type": "code",
   "execution_count": 55,
   "metadata": {},
   "outputs": [
    {
     "name": "stdout",
     "output_type": "stream",
     "text": [
      "n\n",
      "o\n",
      "h\n",
      "t\n",
      "y\n",
      "P\n"
     ]
    }
   ],
   "source": [
    "cadena = \"Python\"\n",
    "\n",
    "posición = 0\n",
    "\n",
    "for n in cadena:\n",
    "    posición += -1\n",
    "    print(cadena[posición])"
   ]
  },
  {
   "cell_type": "markdown",
   "metadata": {},
   "source": [
    "#### 9. Dada la lista `[1, 2, 3, 4, 5]`, multiplica todos sus elementos usando un bucle `for` y almacena los resultados en una lista nueva. \n"
   ]
  },
  {
   "cell_type": "code",
   "execution_count": 59,
   "metadata": {},
   "outputs": [
    {
     "name": "stdout",
     "output_type": "stream",
     "text": [
      "[1, 2, 6, 24, 120]\n"
     ]
    }
   ],
   "source": [
    "lista = [1,2,3,4,5]\n",
    "mult= 1\n",
    "lista_2 = []\n",
    "for n in lista:\n",
    " mult = mult * n\n",
    " lista_2.append(mult)\n",
    "\n",
    "print(lista_2)"
   ]
  },
  {
   "cell_type": "markdown",
   "metadata": {},
   "source": [
    "#### 10. Dada la lista `[1, 2, 3, 4, 5, 6, 7, 8, 9, 10]`, utiliza un bucle `for` para contar cuántos números son pares y cuántos son impares."
   ]
  },
  {
   "cell_type": "code",
   "execution_count": 63,
   "metadata": {},
   "outputs": [
    {
     "name": "stdout",
     "output_type": "stream",
     "text": [
      "la lista tiene 5 valores pares\n",
      "la lista tiene 5 valores impares\n"
     ]
    }
   ],
   "source": [
    "lista =[1,2,3,4,5,6,7,8,9,10]\n",
    "pares = 0\n",
    "impares = 0\n",
    "for n in lista:\n",
    "    if n % 2 == 0:\n",
    "        pares +=1\n",
    "    else:\n",
    "        impares +=1\n",
    "\n",
    "print(\"la lista tiene\", pares, \"valores pares\")\n",
    "print(\"la lista tiene\", impares, \"valores impares\") "
   ]
  },
  {
   "cell_type": "markdown",
   "metadata": {},
   "source": [
    "#### 11. Escribe un programa que solicite al usuario un número entero positivo (`n`) y calcule la suma de todos los números primos menores o iguales a `n`. Utiliza un bucle `for` para iterar sobre cada número y verifica si es primo."
   ]
  },
  {
   "cell_type": "code",
   "execution_count": 86,
   "metadata": {},
   "outputs": [
    {
     "name": "stdout",
     "output_type": "stream",
     "text": [
      "13\n"
     ]
    }
   ],
   "source": [
    "# Solicitamos un número\n",
    "n = int(input(\"introduce un número entero positivo\"))\n",
    "# Hacemos un lista que vaya desde el 1 hasta ese número para coger todos los números menores o iguales a n\n",
    "lista = range(1,n+1,1)\n",
    "suma_primos = 1\n",
    "for num in lista:\n",
    "    lista_divisor = range(1,int(num ** 0.5)+1,1)\n",
    "    for valor in lista_divisor:\n",
    "        if num % valor != 0:\n",
    "            suma_primos += num\n",
    "\n",
    "print(suma_primos)\n"
   ]
  },
  {
   "cell_type": "markdown",
   "metadata": {},
   "source": [
    "#### 12. Escribe un programa que solicite al usuario un número entero positivo (`n`) y luego imprima un patrón de asteriscos como el siguiente ejemplo para `n = 5`:\n",
    "```\n",
    "*\n",
    "**\n",
    "***\n",
    "****\n",
    "*****\n",
    "```\n",
    "Utiliza un bucle `for` anidado para controlar la cantidad de asteriscos en cada línea."
   ]
  },
  {
   "cell_type": "code",
   "execution_count": 81,
   "metadata": {},
   "outputs": [
    {
     "name": "stdout",
     "output_type": "stream",
     "text": [
      "*\n",
      "**\n",
      "***\n"
     ]
    }
   ],
   "source": [
    "n = int(input(\"Introduce un número entero positivo: \"))\n",
    "for i in range(1, n + 1):\n",
    "    for j in range(i):\n",
    "        print(\"*\",end=\"\") \n",
    "    print() "
   ]
  },
  {
   "cell_type": "markdown",
   "metadata": {},
   "source": [
    "#### 13. Dado un texto, utiliza un bucle `for` para contar cuántas veces aparece cada palabra en el texto. Ignora mayúsculas/minúsculas y los signos de puntuación."
   ]
  },
  {
   "cell_type": "code",
   "execution_count": 85,
   "metadata": {},
   "outputs": [
    {
     "name": "stdout",
     "output_type": "stream",
     "text": [
      "['hola', 'hola', 'hola', 'com', 'com', 'luisa']\n",
      "{'hola'} {3}\n",
      "{'com'} {2}\n",
      "{'luisa'} {1}\n"
     ]
    }
   ],
   "source": [
    "texto = input(\"introduce un texto\")\n",
    "texto = texto.lower()\n",
    "palabras = texto.split()\n",
    "print(palabras)\n",
    "contador_palabras ={}\n",
    "\n",
    "for palabra in palabras:\n",
    "    if palabra in contador_palabras:\n",
    "     contador_palabras[palabra]+=1\n",
    "    else: contador_palabras[palabra] = 1\n",
    "\n",
    "for palabra, cuenta in contador_palabras.items():\n",
    "   print({palabra}, {cuenta}) "
   ]
  },
  {
   "cell_type": "markdown",
   "metadata": {},
   "source": [
    "#### 14. Escribe un programa que solicite al usuario dos números enteros positivos (`inicio` y `fin`, donde `inicio <= fin`) y luego calcule la suma de los números pares y la suma de los números impares en ese rango. Utiliza un bucle `for` para iterar sobre cada número y una estructura `if-else` para clasificar y sumar los números pares e impares."
   ]
  },
  {
   "cell_type": "code",
   "execution_count": 99,
   "metadata": {},
   "outputs": [
    {
     "name": "stdout",
     "output_type": "stream",
     "text": [
      "la suma de los números pares en el rango es  6\n",
      "la suma de los números impares en el rango es  0\n"
     ]
    }
   ],
   "source": [
    "inicio = int(input(\"numero inicial\"))\n",
    "fin = int(input(\"numero final\"))\n",
    "if inicio > fin:\n",
    "    print(\"error\")\n",
    "else:\n",
    "    rango = range(inicio+1,fin,1)\n",
    "    suma_par=0\n",
    "    suma_impar=0\n",
    "    for i in rango:\n",
    "        if i % 2 == 0:\n",
    "            suma_par += i\n",
    "        else: suma_impar += i\n",
    "\n",
    "print(\"la suma de los números pares en el rango es \", suma_par)\n",
    "print(\"la suma de los números impares en el rango es \", suma_impar)\n",
    "\n"
   ]
  },
  {
   "cell_type": "markdown",
   "metadata": {},
   "source": [
    "#### 15. Escribe un programa que solicite al usuario un número entero positivo (`n`) y luego identifique todos los números primos menores o iguales a `n`. Para cada número, imprime si es primo o no usando un bucle `for` y una estructura `if-else` para verificar la condición de primalidad."
   ]
  },
  {
   "cell_type": "code",
   "execution_count": 100,
   "metadata": {},
   "outputs": [
    {
     "name": "stdout",
     "output_type": "stream",
     "text": [
      "2 es primo\n",
      "3 es primo\n",
      "4 no es primo\n",
      "5 es primo\n"
     ]
    }
   ],
   "source": [
    "def es_primo(numero):\n",
    "    if numero < 2:\n",
    "        return False\n",
    "    for i in range(2, int(numero ** 0.5) + 1):\n",
    "        if numero % i == 0:\n",
    "            return False\n",
    "    return True\n",
    "\n",
    "n = int(input(\"Introduce un número entero positivo: \"))\n",
    "\n",
    "for num in range(2, n + 1):\n",
    "    if es_primo(num):\n",
    "        print(f\"{num} es primo\")\n",
    "    else:\n",
    "        print(f\"{num} no es primo\")"
   ]
  },
  {
   "cell_type": "markdown",
   "metadata": {},
   "source": [
    "#### 16.Dada una lista de precios `[100, 200, 300, 400, 500]`, aplica un descuento del 10% a todos los precios mayores a `250`. Imprime la lista actualizada de precios después de aplicar el descuento utilizando un bucle `for`. "
   ]
  },
  {
   "cell_type": "code",
   "execution_count": 101,
   "metadata": {},
   "outputs": [
    {
     "name": "stdout",
     "output_type": "stream",
     "text": [
      "la lista actualizada es: \n",
      "[100, 200, 270.0, 360.0, 450.0]\n"
     ]
    }
   ],
   "source": [
    "lista3 = [100,200,300,400,500]\n",
    "for n in range(len(lista3)):\n",
    "    if lista3[n]>250:\n",
    "        lista3[n]=lista3[n]*0.9\n",
    "\n",
    "print(\"la lista actualizada es: \")\n",
    "print(lista3)\n",
    "        \n",
    "\n",
    "\n"
   ]
  },
  {
   "cell_type": "markdown",
   "metadata": {},
   "source": [
    "#### 17. Dada una lista de calificaciones de estudiantes `[85, 92, 78, 90, 88]`, clasifica a cada estudiante como \"Aprobado\" si la calificación es mayor o igual a `80` y como \"Reprobado\" si es menor a `80`. Imprime el nombre de cada estudiante junto con su estado utilizando un bucle `for` y una estructura `if-else`.\n"
   ]
  },
  {
   "cell_type": "code",
   "execution_count": 102,
   "metadata": {},
   "outputs": [
    {
     "name": "stdout",
     "output_type": "stream",
     "text": [
      "Estudiante 1: Aprobado\n",
      "Estudiante 2: Aprobado\n",
      "Estudiante 3: Reprobado\n",
      "Estudiante 4: Aprobado\n",
      "Estudiante 5: Aprobado\n"
     ]
    }
   ],
   "source": [
    "nombres = [\"Estudiante 1\", \"Estudiante 2\", \"Estudiante 3\", \"Estudiante 4\", \"Estudiante 5\"]\n",
    "\n",
    "calificaciones = [85, 92, 78, 90, 88]\n",
    "\n",
    "for i in range(len(calificaciones)): \n",
    "    if calificaciones[i] >= 80:  \n",
    "        estado = \"Aprobado\"\n",
    "    else:\n",
    "        estado = \"Reprobado\"\n",
    "    \n",
    "    print(f\"{nombres[i]}: {estado}\")"
   ]
  },
  {
   "cell_type": "markdown",
   "metadata": {},
   "source": [
    "\n",
    "#### 18. Escribe un programa que solicite al usuario dos números enteros positivos (`inicio`, `fin`) y otro número entero positivo (`divisor`). Encuentra el número más grande en el rango desde `inicio` hasta `fin` que sea divisible por `divisor`. Utiliza un bucle `for` y una estructura `if-else` para verificar y mantener el registro del número más grande divisible por el divisor dado.\n"
   ]
  },
  {
   "cell_type": "markdown",
   "metadata": {},
   "source": []
  },
  {
   "cell_type": "code",
   "execution_count": 103,
   "metadata": {},
   "outputs": [
    {
     "name": "stdout",
     "output_type": "stream",
     "text": [
      "El número más grande divisible por 5 en el rango es: 20\n"
     ]
    }
   ],
   "source": [
    "\n",
    "inicio = int(input(\"Introduce el número de inicio: \"))\n",
    "fin = int(input(\"Introduce el número de fin: \"))\n",
    "divisor = int(input(\"Introduce el divisor: \"))\n",
    "\n",
    "numero_mas_grande = None\n",
    "\n",
    "for num in range(inicio, fin + 1):\n",
    "    if num % divisor == 0:\n",
    "        if numero_mas_grande is None or num > numero_mas_grande:\n",
    "            numero_mas_grande = num\n",
    "\n",
    "if numero_mas_grande is not None:\n",
    "    print(f\"El número más grande divisible por {divisor} en el rango es: {numero_mas_grande}\")\n",
    "else:\n",
    "    print(f\"No hay ningún número divisible por {divisor} en el rango de {inicio} a {fin}\")"
   ]
  }
 ],
 "metadata": {
  "kernelspec": {
   "display_name": "hackio",
   "language": "python",
   "name": "python3"
  },
  "language_info": {
   "codemirror_mode": {
    "name": "ipython",
    "version": 3
   },
   "file_extension": ".py",
   "mimetype": "text/x-python",
   "name": "python",
   "nbconvert_exporter": "python",
   "pygments_lexer": "ipython3",
   "version": "3.12.5"
  }
 },
 "nbformat": 4,
 "nbformat_minor": 2
}
